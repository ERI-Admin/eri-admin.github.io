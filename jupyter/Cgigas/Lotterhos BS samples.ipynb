{
 "cells": [
  {
   "cell_type": "markdown",
   "metadata": {},
   "source": [
    "# Analysis of two oyster samples where Lotterhos did methylRAD"
   ]
  },
  {
   "cell_type": "markdown",
   "metadata": {},
   "source": [
    "The M2 and M3 samples are here:\n",
    "\n",
    "http://owl.fish.washington.edu/nightingales/C_gigas/9_GATCAG_L001_R1_001.fastq.gz\n",
    "http://owl.fish.washington.edu/nightingales/C_gigas/10_TAGCTT_L001_R1_001.fastq.gz\n",
    "\n"
   ]
  },
  {
   "cell_type": "code",
   "execution_count": 40,
   "metadata": {
    "collapsed": false
   },
   "outputs": [],
   "source": [
    "bsmaploc=\"/Applications/bioinfo/BSMAP/bsmap-2.74/\"\n"
   ]
  },
  {
   "cell_type": "markdown",
   "metadata": {},
   "source": [
    "## Genome version"
   ]
  },
  {
   "cell_type": "code",
   "execution_count": 12,
   "metadata": {
    "collapsed": false
   },
   "outputs": [
    {
     "name": "stdout",
     "output_type": "stream",
     "text": [
      "  % Total    % Received % Xferd  Average Speed   Time    Time     Time  Current\n",
      "                                 Dload  Upload   Total   Spent    Left  Speed\n",
      "100  148M  100  148M    0     0  5192k      0  0:00:29  0:00:29 --:--:-- 5790k\n"
     ]
    }
   ],
   "source": [
    "!curl \\\n",
    "ftp://ftp.ensemblgenomes.org/pub/release-32/metazoa/fasta/crassostrea_gigas/dna/Crassostrea_gigas.GCA_000297895.1.dna_sm.toplevel.fa.gz \\\n",
    "> /Volumes/caviar/wd/data/Crassostrea_gigas.GCAz_000297895.1.dna_sm.toplevel.fa.gz    "
   ]
  },
  {
   "cell_type": "code",
   "execution_count": 7,
   "metadata": {
    "collapsed": false
   },
   "outputs": [
    {
     "name": "stdout",
     "output_type": "stream",
     "text": [
      "08778 148199 Crassostrea_gigas.GCA_000297895.1.dna.nonchromosomal.fa.gz\r\n",
      "08778 148199 Crassostrea_gigas.GCA_000297895.1.dna.toplevel.fa.gz\r\n",
      "57175 143732 Crassostrea_gigas.GCA_000297895.1.dna_rm.nonchromosomal.fa.gz\r\n",
      "57175 143732 Crassostrea_gigas.GCA_000297895.1.dna_rm.toplevel.fa.gz\r\n",
      "45604 151782 Crassostrea_gigas.GCA_000297895.1.dna_sm.nonchromosomal.fa.gz\r\n",
      "45604 151782 Crassostrea_gigas.GCA_000297895.1.dna_sm.toplevel.fa.gz\r\n",
      "62118     5 README\r\n"
     ]
    }
   ],
   "source": [
    "!curl ftp://ftp.ensemblgenomes.org/pub/release-32/metazoa/fasta/crassostrea_gigas/dna/CHECKSUMS "
   ]
  },
  {
   "cell_type": "code",
   "execution_count": 13,
   "metadata": {
    "collapsed": false
   },
   "outputs": [
    {
     "name": "stdout",
     "output_type": "stream",
     "text": [
      "Crassostrea_gigas.GCAz_000297895.1.dna_sm.toplevel.fa.gz\r\n"
     ]
    }
   ],
   "source": [
    "!ls /Volumes/caviar/wd/data/"
   ]
  },
  {
   "cell_type": "code",
   "execution_count": 14,
   "metadata": {
    "collapsed": false
   },
   "outputs": [
    {
     "name": "stdout",
     "output_type": "stream",
     "text": [
      "MD5 (/Volumes/caviar/wd/data/Crassostrea_gigas.GCAz_000297895.1.dna_sm.toplevel.fa.gz) = c70084d76bd6d7a1ba52c13843e69ccc\r\n"
     ]
    }
   ],
   "source": [
    "!md5 /Volumes/caviar/wd/data/Crassostrea_gigas.GCAz_000297895.1.dna_sm.toplevel.fa.gz"
   ]
  },
  {
   "cell_type": "code",
   "execution_count": 17,
   "metadata": {
    "collapsed": false
   },
   "outputs": [
    {
     "name": "stdout",
     "output_type": "stream",
     "text": [
      "/Volumes/caviar/wd\n"
     ]
    }
   ],
   "source": [
    "cd /Volumes/caviar/wd/"
   ]
  },
  {
   "cell_type": "code",
   "execution_count": 22,
   "metadata": {
    "collapsed": true
   },
   "outputs": [],
   "source": [
    "mkdir $(date +%F)"
   ]
  },
  {
   "cell_type": "code",
   "execution_count": 24,
   "metadata": {
    "collapsed": false
   },
   "outputs": [
    {
     "name": "stdout",
     "output_type": "stream",
     "text": [
      "\u001b[34m2016-10-11\u001b[m\u001b[m/ \u001b[34mdata\u001b[m\u001b[m/\r\n"
     ]
    }
   ],
   "source": [
    "ls"
   ]
  },
  {
   "cell_type": "code",
   "execution_count": null,
   "metadata": {
    "collapsed": true
   },
   "outputs": [],
   "source": [
    "ls /Volumes/web/nightingales/C"
   ]
  },
  {
   "cell_type": "code",
   "execution_count": 28,
   "metadata": {
    "collapsed": false
   },
   "outputs": [
    {
     "name": "stdout",
     "output_type": "stream",
     "text": [
      "  % Total    % Received % Xferd  Average Speed   Time    Time     Time  Current\n",
      "                                 Dload  Upload   Total   Spent    Left  Speed\n",
      "100  560M  100  560M    0     0  55.6M      0  0:00:10  0:00:10 --:--:-- 77.8M\n"
     ]
    }
   ],
   "source": [
    "!curl \\\n",
    "http://owl.fish.washington.edu/nightingales/C_gigas/9_GATCAG_L001_R1_001.fastq.gz \\\n",
    "> /Volumes/caviar/wd/2016-10-11/9_GATCAG_L001_R1_001.fastq.gz"
   ]
  },
  {
   "cell_type": "code",
   "execution_count": 32,
   "metadata": {
    "collapsed": false
   },
   "outputs": [
    {
     "name": "stdout",
     "output_type": "stream",
     "text": [
      "  % Total    % Received % Xferd  Average Speed   Time    Time     Time  Current\n",
      "                                 Dload  Upload   Total   Spent    Left  Speed\n",
      "100  619M  100  619M    0     0  46.1M      0  0:00:13  0:00:13 --:--:-- 44.0M\n"
     ]
    }
   ],
   "source": [
    "!curl \\\n",
    "http://owl.fish.washington.edu/nightingales/C_gigas/10_TAGCTT_L001_R1_001.fastq.gz \\\n",
    "> /Volumes/caviar/wd/2016-10-11/10_TAGCTT_L001_R1_001.fastq.gz"
   ]
  },
  {
   "cell_type": "code",
   "execution_count": 36,
   "metadata": {
    "collapsed": false
   },
   "outputs": [
    {
     "name": "stdout",
     "output_type": "stream",
     "text": [
      "/Volumes/caviar/wd/2016-10-11\n"
     ]
    }
   ],
   "source": [
    "cd 2016-10-11/"
   ]
  },
  {
   "cell_type": "code",
   "execution_count": 38,
   "metadata": {
    "collapsed": false
   },
   "outputs": [],
   "source": [
    "!cp 9_GATCAG_L001_R1_001.fastq.gz M2.fastq.gz"
   ]
  },
  {
   "cell_type": "code",
   "execution_count": 39,
   "metadata": {
    "collapsed": true
   },
   "outputs": [],
   "source": [
    "!cp 10_TAGCTT_L001_R1_001.fastq.gz M3.fastq.gz"
   ]
  },
  {
   "cell_type": "code",
   "execution_count": null,
   "metadata": {
    "collapsed": false,
    "scrolled": true
   },
   "outputs": [
    {
     "name": "stdout",
     "output_type": "stream",
     "text": [
      "\n",
      "BSMAP v2.74\n",
      "Start at:  Tue Oct 11 08:02:27 2016\n",
      "\n",
      "Input reference file: ../data/Crassostrea_gigas.GCAz_000297895.1.dna_sm.toplevel.fa \t(format: FASTA)\n",
      "Load in 7658 db seqs, total size 557717710 bp. 8 secs passed\n",
      "total_kmers: 43046721\n",
      "Create seed table. 24 secs passed\n",
      "max number of mismatches: read_length * 8% \tmax gap size: 0\n",
      "kmer cut-off ratio: 5e-07\n",
      "max multi-hits: 100\tmax Ns: 5\tseed size: 16\tindex interval: 4\n",
      "quality cutoff: 0\tbase quality char: '!'\n",
      "min fragment size:28\tmax fragemt size:500\n",
      "start from read #1\tend at read #4294967295\n",
      "additional alignment: T in reads => C in reference\n",
      "mapping strand: ++,-+\n",
      "Single-end alignment(6 threads)\n",
      "Input read file: M2.fastq.gz \t(format: gzipped FASTQ)\n",
      "Output file: bsmap_out_M2.sam\t (format: SAM)\n",
      "Thread #1: \t100000 reads finished. 30 secs passed\n",
      "Thread #0: \t50000 reads finished. 30 secs passed\n",
      "Thread #2: \t150000 reads finished. 31 secs passed\n",
      "Thread #3: \t200000 reads finished. 31 secs passed\n",
      "Thread #5: \t250000 reads finished. 31 secs passed\n",
      "Thread #4: \t300000 reads finished. 31 secs passed\n",
      "Thread #1: \t350000 reads finished. 36 secs passed\n",
      "Thread #0: \t400000 reads finished. 36 secs passed\n",
      "Thread #2: \t450000 reads finished. 36 secs passed\n",
      "Thread #3: \t500000 reads finished. 36 secs passed\n",
      "Thread #5: \t550000 reads finished. 37 secs passed\n",
      "Thread #4: \t600000 reads finished. 37 secs passed\n",
      "Thread #1: \t650000 reads finished. 42 secs passed\n",
      "Thread #2: \t750000 reads finished. 42 secs passed\n",
      "Thread #0: \t700000 reads finished. 42 secs passed\n",
      "Thread #3: \t800000 reads finished. 42 secs passed\n",
      "Thread #5: \t850000 reads finished. 42 secs passed\n",
      "Thread #4: \t900000 reads finished. 43 secs passed\n",
      "Thread #1: \t950000 reads finished. 48 secs passed\n",
      "Thread #2: \t1000000 reads finished. 48 secs passed\n",
      "Thread #3: \t1100000 reads finished. 48 secs passed\n",
      "Thread #0: \t1050000 reads finished. 49 secs passed\n",
      "Thread #5: \t1150000 reads finished. 49 secs passed\n",
      "Thread #4: \t1200000 reads finished. 49 secs passed\n",
      "Thread #1: \t1250000 reads finished. 54 secs passed\n",
      "Thread #2: \t1300000 reads finished. 54 secs passed\n",
      "Thread #3: \t1350000 reads finished. 55 secs passed\n",
      "Thread #5: \t1450000 reads finished. 55 secs passed\n",
      "Thread #4: \t1500000 reads finished. 55 secs passed\n",
      "Thread #0: \t1400000 reads finished. 55 secs passed\n",
      "Thread #1: \t1550000 reads finished. 60 secs passed\n",
      "Thread #2: \t1600000 reads finished. 60 secs passed\n",
      "Thread #3: \t1650000 reads finished. 61 secs passed\n",
      "Thread #4: \t1750000 reads finished. 61 secs passed\n",
      "Thread #5: \t1700000 reads finished. 61 secs passed\n",
      "Thread #0: \t1800000 reads finished. 61 secs passed\n",
      "Thread #1: \t1850000 reads finished. 67 secs passed\n",
      "Thread #2: \t1900000 reads finished. 67 secs passed\n",
      "Thread #3: \t1950000 reads finished. 68 secs passed\n",
      "Thread #4: \t2000000 reads finished. 68 secs passed\n",
      "Thread #5: \t2050000 reads finished. 68 secs passed\n",
      "Thread #0: \t2100000 reads finished. 68 secs passed\n",
      "Thread #1: \t2150000 reads finished. 73 secs passed\n",
      "Thread #2: \t2200000 reads finished. 74 secs passed\n",
      "Thread #3: \t2250000 reads finished. 74 secs passed\n",
      "Thread #4: \t2300000 reads finished. 74 secs passed\n",
      "Thread #5: \t2350000 reads finished. 74 secs passed\n",
      "Thread #0: \t2400000 reads finished. 75 secs passed\n",
      "Thread #1: \t2450000 reads finished. 80 secs passed\n",
      "Thread #2: \t2500000 reads finished. 80 secs passed\n",
      "Thread #3: \t2550000 reads finished. 80 secs passed\n",
      "Thread #4: \t2600000 reads finished. 81 secs passed\n",
      "Thread #5: \t2650000 reads finished. 81 secs passed\n",
      "Thread #0: \t2700000 reads finished. 81 secs passed\n",
      "Thread #2: \t2800000 reads finished. 86 secs passed\n",
      "Thread #1: \t2750000 reads finished. 86 secs passed\n",
      "Thread #3: \t2850000 reads finished. 86 secs passed\n",
      "Thread #4: \t2900000 reads finished. 87 secs passed\n",
      "Thread #5: \t2950000 reads finished. 87 secs passed\n",
      "Thread #0: \t3000000 reads finished. 88 secs passed\n",
      "Thread #2: \t3050000 reads finished. 92 secs passed\n",
      "Thread #1: \t3100000 reads finished. 92 secs passed\n",
      "Thread #3: \t3150000 reads finished. 92 secs passed\n",
      "Thread #4: \t3200000 reads finished. 92 secs passed\n",
      "Thread #5: \t3250000 reads finished. 93 secs passed\n",
      "Thread #0: \t3300000 reads finished. 94 secs passed\n",
      "Thread #2: \t3350000 reads finished. 98 secs passed\n",
      "Thread #1: \t3400000 reads finished. 98 secs passed\n",
      "Thread #3: \t3450000 reads finished. 98 secs passed\n",
      "Thread #4: \t3500000 reads finished. 98 secs passed\n",
      "Thread #5: \t3550000 reads finished. 99 secs passed\n",
      "Thread #0: \t3600000 reads finished. 100 secs passed\n",
      "Thread #2: \t3650000 reads finished. 104 secs passed\n",
      "Thread #1: \t3700000 reads finished. 104 secs passed\n",
      "Thread #3: \t3750000 reads finished. 104 secs passed\n",
      "Thread #4: \t3800000 reads finished. 104 secs passed\n",
      "Thread #5: \t3850000 reads finished. 105 secs passed\n",
      "Thread #0: \t3900000 reads finished. 106 secs passed\n",
      "Thread #2: \t3950000 reads finished. 110 secs passed\n",
      "Thread #1: \t4000000 reads finished. 110 secs passed\n",
      "Thread #3: \t4050000 reads finished. 110 secs passed\n",
      "Thread #4: \t4100000 reads finished. 110 secs passed\n",
      "Thread #5: \t4150000 reads finished. 111 secs passed\n",
      "Thread #0: \t4200000 reads finished. 112 secs passed\n",
      "Thread #2: \t4250000 reads finished. 116 secs passed\n",
      "Thread #1: \t4300000 reads finished. 116 secs passed\n",
      "Thread #3: \t4350000 reads finished. 116 secs passed\n",
      "Thread #4: \t4400000 reads finished. 117 secs passed\n",
      "Thread #5: \t4450000 reads finished. 117 secs passed\n",
      "Thread #0: \t4500000 reads finished. 119 secs passed\n",
      "Thread #2: \t4550000 reads finished. 122 secs passed\n",
      "Thread #1: \t4600000 reads finished. 122 secs passed\n",
      "Thread #3: \t4650000 reads finished. 122 secs passed\n",
      "Thread #4: \t4700000 reads finished. 123 secs passed\n",
      "Thread #5: \t4750000 reads finished. 123 secs passed\n",
      "Thread #0: \t4800000 reads finished. 125 secs passed\n",
      "Thread #2: \t4850000 reads finished. 128 secs passed\n",
      "Thread #1: \t4900000 reads finished. 128 secs passed\n",
      "Thread #3: \t4950000 reads finished. 129 secs passed\n",
      "Thread #4: \t5000000 reads finished. 129 secs passed\n",
      "Thread #5: \t5050000 reads finished. 129 secs passed\n",
      "Thread #0: \t5100000 reads finished. 131 secs passed\n",
      "Thread #2: \t5150000 reads finished. 134 secs passed\n",
      "Thread #1: \t5200000 reads finished. 134 secs passed\n",
      "Thread #3: \t5250000 reads finished. 134 secs passed\n",
      "Thread #4: \t5300000 reads finished. 135 secs passed\n",
      "Thread #5: \t5350000 reads finished. 135 secs passed\n",
      "Thread #0: \t5400000 reads finished. 137 secs passed\n",
      "Thread #2: \t5450000 reads finished. 140 secs passed\n",
      "Thread #1: \t5500000 reads finished. 140 secs passed\n",
      "Thread #3: \t5550000 reads finished. 141 secs passed\n",
      "Thread #4: \t5600000 reads finished. 141 secs passed\n",
      "Thread #5: \t5650000 reads finished. 141 secs passed\n",
      "Thread #0: \t5700000 reads finished. 143 secs passed\n",
      "Thread #2: \t5750000 reads finished. 147 secs passed\n",
      "Thread #1: \t5800000 reads finished. 147 secs passed\n",
      "Thread #3: \t5850000 reads finished. 147 secs passed\n",
      "Thread #4: \t5900000 reads finished. 147 secs passed\n",
      "Thread #5: \t5950000 reads finished. 148 secs passed\n",
      "Thread #0: \t6000000 reads finished. 150 secs passed\n",
      "Thread #2: \t6050000 reads finished. 153 secs passed\n",
      "Thread #1: \t6100000 reads finished. 153 secs passed\n",
      "Thread #3: \t6150000 reads finished. 153 secs passed\n",
      "Thread #4: \t6200000 reads finished. 153 secs passed\n",
      "Thread #5: \t6250000 reads finished. 154 secs passed\n",
      "Thread #0: \t6300000 reads finished. 156 secs passed\n",
      "Thread #1: \t6400000 reads finished. 160 secs passed\n",
      "Thread #2: \t6350000 reads finished. 160 secs passed\n",
      "Thread #4: \t6500000 reads finished. 160 secs passed\n",
      "Thread #3: \t6450000 reads finished. 160 secs passed\n",
      "Thread #5: \t6550000 reads finished. 161 secs passed\n",
      "Thread #0: \t6600000 reads finished. 164 secs passed\n",
      "Thread #1: \t6650000 reads finished. 166 secs passed\n",
      "Thread #4: \t6750000 reads finished. 167 secs passed\n",
      "Thread #2: \t6700000 reads finished. 167 secs passed\n",
      "Thread #3: \t6800000 reads finished. 167 secs passed\n",
      "Thread #5: \t6850000 reads finished. 168 secs passed\n",
      "Thread #0: \t6900000 reads finished. 171 secs passed\n",
      "Thread #1: \t6950000 reads finished. 173 secs passed\n",
      "Thread #2: \t7050000 reads finished. 174 secs passed\n",
      "Thread #4: \t7000000 reads finished. 174 secs passed\n",
      "Thread #3: \t7100000 reads finished. 174 secs passed\n",
      "Thread #5: \t7150000 reads finished. 174 secs passed\n",
      "Thread #0: \t7200000 reads finished. 177 secs passed\n",
      "Thread #1: \t7250000 reads finished. 179 secs passed\n",
      "Thread #2: \t7300000 reads finished. 180 secs passed\n",
      "Thread #4: \t7350000 reads finished. 180 secs passed\n",
      "Thread #3: \t7400000 reads finished. 180 secs passed\n",
      "Thread #5: \t7450000 reads finished. 180 secs passed\n",
      "Thread #0: \t7500000 reads finished. 184 secs passed\n",
      "Thread #1: \t7550000 reads finished. 186 secs passed\n",
      "Thread #2: \t7600000 reads finished. 186 secs passed\n",
      "Thread #4: \t7650000 reads finished. 187 secs passed\n",
      "Thread #3: \t7700000 reads finished. 187 secs passed\n",
      "Thread #5: \t7750000 reads finished. 187 secs passed\n",
      "Thread #0: \t7800000 reads finished. 191 secs passed\n",
      "Thread #1: \t7850000 reads finished. 193 secs passed\n",
      "Thread #2: \t7900000 reads finished. 193 secs passed\n",
      "Thread #4: \t7950000 reads finished. 193 secs passed\n",
      "Thread #3: \t8000000 reads finished. 193 secs passed\n",
      "Thread #5: \t8050000 reads finished. 193 secs passed\n",
      "Thread #0: \t8100000 reads finished. 196 secs passed\n",
      "Thread #1: \t8150000 reads finished. 198 secs passed\n",
      "Thread #2: \t8200000 reads finished. 199 secs passed\n",
      "Thread #4: \t8250000 reads finished. 199 secs passed\n",
      "Thread #3: \t8300000 reads finished. 199 secs passed\n",
      "Thread #5: \t8350000 reads finished. 199 secs passed\n",
      "Thread #0: \t8400000 reads finished. 203 secs passed\n",
      "Thread #1: \t8450000 reads finished. 205 secs passed\n",
      "Thread #2: \t8500000 reads finished. 205 secs passed\n",
      "Thread #4: \t8550000 reads finished. 205 secs passed\n",
      "Thread #5: \t8650000 reads finished. 205 secs passed\n",
      "Thread #3: \t8600000 reads finished. 205 secs passed\n",
      "Thread #0: \t8700000 reads finished. 209 secs passed\n",
      "Thread #1: \t8750000 reads finished. 210 secs passed\n",
      "Thread #2: \t8800000 reads finished. 211 secs passed\n",
      "Thread #4: \t8850000 reads finished. 211 secs passed\n",
      "Thread #5: \t8900000 reads finished. 211 secs passed\n",
      "Thread #3: \t8950000 reads finished. 211 secs passed\n",
      "Thread #0: \t9000000 reads finished. 215 secs passed\n",
      "Thread #1: \t9050000 reads finished. 216 secs passed\n",
      "Thread #2: \t9100000 reads finished. 217 secs passed\n",
      "Thread #4: \t9150000 reads finished. 217 secs passed\n",
      "Thread #5: \t9200000 reads finished. 217 secs passed\n",
      "Thread #3: \t9250000 reads finished. 217 secs passed\n",
      "Thread #0: \t9300000 reads finished. 221 secs passed\n",
      "Thread #1: \t9350000 reads finished. 222 secs passed\n",
      "Thread #2: \t9400000 reads finished. 223 secs passed\n",
      "Thread #4: \t9450000 reads finished. 223 secs passed\n",
      "Thread #5: \t9500000 reads finished. 223 secs passed\n",
      "Thread #3: \t9550000 reads finished. 223 secs passed\n",
      "Thread #0: \t9600000 reads finished. 227 secs passed\n",
      "Thread #1: \t9650000 reads finished. 228 secs passed\n",
      "Thread #2: \t9700000 reads finished. 228 secs passed\n",
      "Thread #4: \t9750000 reads finished. 229 secs passed\n",
      "Thread #5: \t9800000 reads finished. 229 secs passed\n",
      "Thread #3: \t9850000 reads finished. 229 secs passed\n",
      "Thread #0: \t9900000 reads finished. 233 secs passed\n",
      "Thread #1: \t9950000 reads finished. 234 secs passed\n",
      "Thread #2: \t10000000 reads finished. 235 secs passed\n",
      "Thread #4: \t10050000 reads finished. 235 secs passed\n",
      "Thread #5: \t10100000 reads finished. 235 secs passed\n",
      "Thread #3: \t10150000 reads finished. 235 secs passed\n",
      "Thread #0: \t10200000 reads finished. 239 secs passed\n",
      "Thread #1: \t10250000 reads finished. 240 secs passed\n",
      "Thread #2: \t10300000 reads finished. 241 secs passed\n",
      "Thread #4: \t10350000 reads finished. 241 secs passed\n",
      "Thread #5: \t10400000 reads finished. 241 secs passed\n",
      "Thread #3: \t10450000 reads finished. 241 secs passed\n",
      "Thread #2: \t10564512 reads finished. 242 secs passed\n"
     ]
    }
   ],
   "source": [
    "for i in (\"M2\",\"M3\"):\n",
    "    !{bsmaploc}bsmap \\\n",
    "-a {i}.fastq.gz \\\n",
    "-d ../data/Crassostrea_gigas.GCAz_000297895.1.dna_sm.toplevel.fa \\\n",
    "-o bsmap_out_{i}.sam \\\n",
    "-p 6"
   ]
  },
  {
   "cell_type": "code",
   "execution_count": null,
   "metadata": {
    "collapsed": true
   },
   "outputs": [],
   "source": [
    "for i in (\"M2\",\"M3\"):\n",
    "    !python {bsmaploc}methratio.py \\\n",
    "-d ../data/Crassostrea_gigas.GCAz_000297895.1.dna_sm.toplevel.fa \\\n",
    "-u -z -g \\\n",
    "-o methratio_out_{i}.txt \\\n",
    "-s {bsmaploc}samtools \\\n",
    "bsmap_out_{i}.sam \\"
   ]
  },
  {
   "cell_type": "code",
   "execution_count": null,
   "metadata": {
    "collapsed": true
   },
   "outputs": [],
   "source": []
  }
 ],
 "metadata": {
  "kernelspec": {
   "display_name": "Python 2",
   "language": "python",
   "name": "python2"
  },
  "language_info": {
   "codemirror_mode": {
    "name": "ipython",
    "version": 2
   },
   "file_extension": ".py",
   "mimetype": "text/x-python",
   "name": "python",
   "nbconvert_exporter": "python",
   "pygments_lexer": "ipython2",
   "version": "2.7.11"
  }
 },
 "nbformat": 4,
 "nbformat_minor": 0
}
